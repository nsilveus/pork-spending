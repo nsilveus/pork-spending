{
 "cells": [
  {
   "cell_type": "code",
   "execution_count": 1,
   "metadata": {},
   "outputs": [],
   "source": [
    "import geopandas as gpd\n",
    "import pandas as pd\n",
    "import numpy as np\n"
   ]
  },
  {
   "cell_type": "code",
   "execution_count": 2,
   "metadata": {},
   "outputs": [],
   "source": [
    "#Change to data directory where district shapefiles and block shapefiles stored\n",
    "data=\"C:/Users/Neil/Dropbox/pork spending/\""
   ]
  },
  {
   "cell_type": "code",
   "execution_count": 3,
   "metadata": {},
   "outputs": [],
   "source": [
    "#cd1=cd114_paoh[(cd114_paoh['CD114FP']=='12')  & (cd114_paoh['STATEFP']=='42')].boundary.iloc[0]\n",
    "#closest_coords(polygon=cd1,point=PA_bgcentroids.iloc[0])\n",
    "#PA_bg['cp1_x']=\n",
    "#print(PA_bg.crs)\n",
    "#cols=['CD1','CD2','CD3','CD4','CD5','CD6','CD7','CD8','CD9','CD10','CD11','CD12','CD13','CD14','CD15','CD16','CD17','CD18']\n",
    "stfips_map={\n",
    "    'AL' : '01',\n",
    "    'AK' : '02',\n",
    "    'AZ' : '04',\n",
    "    'AR' : '05',\n",
    "    'CA' : '06',\n",
    "    'CO' : '08',\n",
    "    'CT' : '09',\n",
    "    'DE' : '10',\n",
    "    'FL' : '12',\n",
    "    'GA' : '13',\n",
    "    'HI' : '15',\n",
    "    'ID' : '16',\n",
    "    'IL' : '17',\n",
    "    'IN' : '18',\n",
    "    'IA' : '19',\n",
    "    'KS' : '20',\n",
    "    'KY' : '21',\n",
    "    'LA' : '22',\n",
    "    'ME' : '23',\n",
    "    'MD' : '24',\n",
    "    'MA' : '25',\n",
    "    'MI' : '26',\n",
    "    'MN' : '27',\n",
    "    'MS' : '28',\n",
    "    'MO' : '29',\n",
    "    'MT' : '30',\n",
    "    'NE' : '31',\n",
    "    'NV' : '32',\n",
    "    'NH' : '33',\n",
    "    'NJ' : '34',\n",
    "    'NM' : '35',\n",
    "    'NY' : '36',\n",
    "    'NC' : '37',\n",
    "    'ND' : '38',\n",
    "    'OH' : '39',\n",
    "    'OK' : '40',\n",
    "    'OR' : '41',\n",
    "    'PA' : '42',\n",
    "    'RI' : '44',\n",
    "    'SC' : '45',\n",
    "    'SD' : '46',\n",
    "    'TN' : '47',\n",
    "    'TX' : '48',\n",
    "    'UT' : '49',\n",
    "    'VT' : '50',\n",
    "    'VA' : '51',\n",
    "    'WA' : '53',\n",
    "    'WV' : '54',\n",
    "    'WI' : '55',\n",
    "    'WY' : '56',\n",
    "    'AS' : '60',\n",
    "    'GU' : '66',\n",
    "    'MP' : '69',\n",
    "    'PR' : '72',\n",
    "    'VI' : '78'\n",
    "}\n",
    "\n",
    "stnamefipsmap={\n",
    "    \"Alabama\" : \"01\",\n",
    "    \"Alaska\" : \"02\",\n",
    "    \"Arizona\" : \"04\",\n",
    "    \"Arkansas\" : \"05\",\n",
    "    \"California\" : \"06\",\n",
    "    \"Colorado\" : \"08\",\n",
    "    \"Connecticut\" : \"09\",\n",
    "    \"Delaware\" : \"10\",\n",
    "    \"Florida\" : \"12\",\n",
    "    \"Georgia\" : \"13\",\n",
    "    \"Hawaii\" : \"15\",\n",
    "    \"Idaho\" : \"16\",\n",
    "    \"Illinois\" : \"17\",\n",
    "    \"Indiana\" : \"18\",\n",
    "    \"Iowa\" : \"19\",\n",
    "    \"Kansas\" : \"20\",\n",
    "    \"Kentucky\" : \"21\",\n",
    "    \"Louisiana\" : \"22\",\n",
    "    \"Maine\" : \"23\",\n",
    "    \"Maryland\" : \"24\",\n",
    "    \"Massachusetts\" : \"25\",\n",
    "    \"Michigan\" : \"26\",\n",
    "    \"Minnesota\" : \"27\",\n",
    "    \"Mississippi\" : \"28\",\n",
    "    \"Missouri\" : \"29\",\n",
    "    \"Montana\" : \"30\",\n",
    "    \"Nebraska\" : \"31\",\n",
    "    \"Nevada\" : \"32\",\n",
    "    \"New Hampshire\" : \"33\",\n",
    "    \"New Jersey\" : \"34\",\n",
    "    \"New Mexico\" : \"35\",\n",
    "    \"New York\" : \"36\",\n",
    "    \"North Carolina\" : \"37\",\n",
    "    \"North Dakota\" : \"38\",\n",
    "    \"Ohio\" : \"39\",\n",
    "    \"Oklahoma\" : \"40\",\n",
    "    \"Oregon\" : \"41\",\n",
    "    \"Pennsylvania\" : \"42\",\n",
    "    \"Rhode Island\" : \"44\",\n",
    "    \"South Carolina\" : \"45\",\n",
    "    \"South Dakota\" : \"46\",\n",
    "    \"Tennessee\" : \"47\",\n",
    "    \"Texas\" : \"48\",\n",
    "    \"Utah\" : \"49\",\n",
    "    'Vermont' : \"50\",\n",
    "    \"Virginia\" : \"51\",\n",
    "    \"Washington\" : \"53\",\n",
    "    \"West Virginia\" : \"54\",\n",
    "    \"Wisconsin\" : \"55\",\n",
    "    \"Wyoming\" : \"56\"\n",
    "              }\n"
   ]
  },
  {
   "cell_type": "markdown",
   "metadata": {},
   "source": [
    "Some districts include large bodies of water. Notably Michigan's districts include the great lakes in the cd113 adn cd114 maps"
   ]
  },
  {
   "cell_type": "code",
   "execution_count": 4,
   "metadata": {},
   "outputs": [],
   "source": [
    "#Block groups\n",
    "blockgroupdir=data+\"/census_block_groups\"\n",
    "nonstates = ['AS','GU' ,'MP' ,'PR' ,'VI' ]\n",
    "\n",
    "empty_df=pd.DataFrame({'STATEFP':[],'geometry':[]})\n",
    "dissolved_bgs=gpd.GeoDataFrame(empty_df)\n",
    "for state in stfips_map:\n",
    "    if state in nonstates:\n",
    "        continue\n",
    "    blockgroups=gpd.read_file(blockgroupdir+\"/cb_2018_\"+stfips_map[state]+\"_bg_500k/cb_2018_\"+stfips_map[state]+\"_bg_500k.shp\")\n",
    "    blockgroups=blockgroups[['STATEFP', 'geometry']]\n",
    "    dissolve=blockgroups.dissolve(by='STATEFP')\n",
    "    dissolved_bgs=dissolved_bgs.geometry.append(dissolve.geometry) #multidimential list\n",
    "    dissolved_gdf=gpd.GeoDataFrame(dissolved_bgs) #turns into GeoDataFrame\n",
    "    #Create columns from STATEFP which is the index of the series created from dissolve\n",
    "    dissolved_gdf.index.name = 'STATEFP' \n",
    "    dissolved_gdf.reset_index(inplace=True) \n",
    "    #set Geomtry for GeoDataFrame\n",
    "    dissolved_gdf=dissolved_gdf.rename(columns={0:'geometry'}) \n",
    "    dissolved_gdf.set_geometry('geometry')\n",
    "\n",
    "#dissolved_bgs=pd.DataFrame(dissolved_bgs, columns=['STATEFP','geometry'])\n",
    "#dissolved_bgs=gpd.GeoDataFrame(dissolved_bgs, geometry='geometry')"
   ]
  },
  {
   "cell_type": "code",
   "execution_count": 5,
   "metadata": {},
   "outputs": [
    {
     "data": {
      "text/plain": [
       "<matplotlib.axes._subplots.AxesSubplot at 0x26afdad3f98>"
      ]
     },
     "execution_count": 5,
     "metadata": {},
     "output_type": "execute_result"
    }
   ],
   "source": [
    "lower48=(dissolved_gdf['STATEFP']!=stfips_map['AK']) & (dissolved_gdf['STATEFP']!=stfips_map['HI'])\n",
    "dissolved_gdf[lower48].plot()\n"
   ]
  },
  {
   "cell_type": "code",
   "execution_count": 6,
   "metadata": {},
   "outputs": [],
   "source": [
    "distmap=gpd.read_file(data + \"/national congressial district shapefiles/tl_2010_us_cd111/tl_2010_us_cd111.shp\")\n"
   ]
  },
  {
   "cell_type": "code",
   "execution_count": 7,
   "metadata": {},
   "outputs": [
    {
     "data": {
      "text/plain": [
       "<matplotlib.axes._subplots.AxesSubplot at 0x26afdace278>"
      ]
     },
     "execution_count": 7,
     "metadata": {},
     "output_type": "execute_result"
    },
    {
     "data": {
      "image/png": "[encoded data removed]",
      "text/plain": [
       "<Figure size 432x288 with 1 Axes>"
      ]
     },
     "metadata": {
      "needs_background": "light"
     },
     "output_type": "display_data"
    }
   ],
   "source": [
    "lower48_dists=(distmap['STATEFP10']!=stfips_map['AK']) & (distmap['STATEFP10']!=stfips_map['HI'])\n",
    "distmap[lower48_dists].plot()"
   ]
  },
  {
   "cell_type": "code",
   "execution_count": 8,
   "metadata": {},
   "outputs": [],
   "source": [
    "distmap_trim = gpd.overlay(dissolved_gdf, distmap, how='intersection')"
   ]
  },
  {
   "cell_type": "code",
   "execution_count": 9,
   "metadata": {},
   "outputs": [
    {
     "data": {
      "text/html": [
       "<div>\n",
       "<style scoped>\n",
       "    .dataframe tbody tr th:only-of-type {\n",
       "        vertical-align: middle;\n",
       "    }\n",
       "\n",
       "    .dataframe tbody tr th {\n",
       "        vertical-align: top;\n",
       "    }\n",
       "\n",
       "    .dataframe thead th {\n",
       "        text-align: right;\n",
       "    }\n",
       "</style>\n",
       "<table border=\"1\" class=\"dataframe\">\n",
       "  <thead>\n",
       "    <tr style=\"text-align: right;\">\n",
       "      <th></th>\n",
       "      <th>STATEFP</th>\n",
       "      <th>STATEFP10</th>\n",
       "      <th>STATENS10</th>\n",
       "      <th>CD111FP</th>\n",
       "      <th>GEOID10</th>\n",
       "      <th>NAMELSAD10</th>\n",
       "      <th>LSAD10</th>\n",
       "      <th>CDSESSN</th>\n",
       "      <th>MTFCC10</th>\n",
       "      <th>FUNCSTAT10</th>\n",
       "      <th>ALAND10</th>\n",
       "      <th>AWATER10</th>\n",
       "      <th>INTPTLAT10</th>\n",
       "      <th>INTPTLON10</th>\n",
       "      <th>geometry</th>\n",
       "    </tr>\n",
       "  </thead>\n",
       "  <tbody>\n",
       "    <tr>\n",
       "      <th>5</th>\n",
       "      <td>01</td>\n",
       "      <td>01</td>\n",
       "      <td>01779775</td>\n",
       "      <td>01</td>\n",
       "      <td>0101</td>\n",
       "      <td>Congressional District 1</td>\n",
       "      <td>C2</td>\n",
       "      <td>111</td>\n",
       "      <td>G5200</td>\n",
       "      <td>N</td>\n",
       "      <td>16328134688</td>\n",
       "      <td>2276021380</td>\n",
       "      <td>+31.0329326</td>\n",
       "      <td>-087.7905809</td>\n",
       "      <td>MULTIPOLYGON (((-88.24104 30.37529, -88.26069 ...</td>\n",
       "    </tr>\n",
       "    <tr>\n",
       "      <th>6</th>\n",
       "      <td>12</td>\n",
       "      <td>01</td>\n",
       "      <td>01779775</td>\n",
       "      <td>01</td>\n",
       "      <td>0101</td>\n",
       "      <td>Congressional District 1</td>\n",
       "      <td>C2</td>\n",
       "      <td>111</td>\n",
       "      <td>G5200</td>\n",
       "      <td>N</td>\n",
       "      <td>16328134688</td>\n",
       "      <td>2276021380</td>\n",
       "      <td>+31.0329326</td>\n",
       "      <td>-087.7905809</td>\n",
       "      <td>MULTIPOLYGON (((-86.70626 30.99470, -86.68831 ...</td>\n",
       "    </tr>\n",
       "    <tr>\n",
       "      <th>7</th>\n",
       "      <td>28</td>\n",
       "      <td>01</td>\n",
       "      <td>01779775</td>\n",
       "      <td>01</td>\n",
       "      <td>0101</td>\n",
       "      <td>Congressional District 1</td>\n",
       "      <td>C2</td>\n",
       "      <td>111</td>\n",
       "      <td>G5200</td>\n",
       "      <td>N</td>\n",
       "      <td>16328134688</td>\n",
       "      <td>2276021380</td>\n",
       "      <td>+31.0329326</td>\n",
       "      <td>-087.7905809</td>\n",
       "      <td>MULTIPOLYGON (((-88.39415 30.35249, -88.39075 ...</td>\n",
       "    </tr>\n",
       "    <tr>\n",
       "      <th>11</th>\n",
       "      <td>01</td>\n",
       "      <td>01</td>\n",
       "      <td>01779775</td>\n",
       "      <td>02</td>\n",
       "      <td>0102</td>\n",
       "      <td>Congressional District 2</td>\n",
       "      <td>C2</td>\n",
       "      <td>111</td>\n",
       "      <td>G5200</td>\n",
       "      <td>N</td>\n",
       "      <td>27152808010</td>\n",
       "      <td>321343075</td>\n",
       "      <td>+31.7458624</td>\n",
       "      <td>-086.0692524</td>\n",
       "      <td>POLYGON ((-85.05603 32.06305, -85.05609 32.062...</td>\n",
       "    </tr>\n",
       "    <tr>\n",
       "      <th>12</th>\n",
       "      <td>12</td>\n",
       "      <td>01</td>\n",
       "      <td>01779775</td>\n",
       "      <td>02</td>\n",
       "      <td>0102</td>\n",
       "      <td>Congressional District 2</td>\n",
       "      <td>C2</td>\n",
       "      <td>111</td>\n",
       "      <td>G5200</td>\n",
       "      <td>N</td>\n",
       "      <td>27152808010</td>\n",
       "      <td>321343075</td>\n",
       "      <td>+31.7458624</td>\n",
       "      <td>-086.0692524</td>\n",
       "      <td>MULTIPOLYGON (((-85.02524 31.00068, -85.02411 ...</td>\n",
       "    </tr>\n",
       "  </tbody>\n",
       "</table>\n",
       "</div>"
      ],
      "text/plain": [
       "   STATEFP STATEFP10 STATENS10 CD111FP GEOID10                NAMELSAD10  \\\n",
       "5       01        01  01779775      01    0101  Congressional District 1   \n",
       "6       12        01  01779775      01    0101  Congressional District 1   \n",
       "7       28        01  01779775      01    0101  Congressional District 1   \n",
       "11      01        01  01779775      02    0102  Congressional District 2   \n",
       "12      12        01  01779775      02    0102  Congressional District 2   \n",
       "\n",
       "   LSAD10 CDSESSN MTFCC10 FUNCSTAT10      ALAND10    AWATER10   INTPTLAT10  \\\n",
       "5      C2     111   G5200          N  16328134688  2276021380  +31.0329326   \n",
       "6      C2     111   G5200          N  16328134688  2276021380  +31.0329326   \n",
       "7      C2     111   G5200          N  16328134688  2276021380  +31.0329326   \n",
       "11     C2     111   G5200          N  27152808010   321343075  +31.7458624   \n",
       "12     C2     111   G5200          N  27152808010   321343075  +31.7458624   \n",
       "\n",
       "      INTPTLON10                                           geometry  \n",
       "5   -087.7905809  MULTIPOLYGON (((-88.24104 30.37529, -88.26069 ...  \n",
       "6   -087.7905809  MULTIPOLYGON (((-86.70626 30.99470, -86.68831 ...  \n",
       "7   -087.7905809  MULTIPOLYGON (((-88.39415 30.35249, -88.39075 ...  \n",
       "11  -086.0692524  POLYGON ((-85.05603 32.06305, -85.05609 32.062...  \n",
       "12  -086.0692524  MULTIPOLYGON (((-85.02524 31.00068, -85.02411 ...  "
      ]
     },
     "execution_count": 9,
     "metadata": {},
     "output_type": "execute_result"
    }
   ],
   "source": [
    "#print(dissolved_gdf.columns.values)\n",
    "#print(distmap.columns.values)\n",
    "#print(distmap_trim[distmap_trim.STATEFP=='12'].shape)\n",
    "distmap_trim[distmap_trim.STATEFP10=='01'].head()\n",
    "#print(distmap_trim[distmap_trim.STATEFP==distmap_trim.STATEFP10].head())\n",
    "#print(distmap_trim[distmap_trim.STATEFP==distmap_trim.STATEFP10].shape)"
   ]
  },
  {
   "cell_type": "code",
   "execution_count": 10,
   "metadata": {},
   "outputs": [
    {
     "data": {
      "text/plain": [
       "<matplotlib.axes._subplots.AxesSubplot at 0x26afdcfaa20>"
      ]
     },
     "execution_count": 10,
     "metadata": {},
     "output_type": "execute_result"
    },
    {
     "data": {
      "image/png": "[encoded data removed]",
      "text/plain": [
       "<Figure size 432x288 with 1 Axes>"
      ]
     },
     "metadata": {
      "needs_background": "light"
     },
     "output_type": "display_data"
    },
    {
     "data": {
      "image/png": "[encoded data removed]",
      "text/plain": [
       "<Figure size 432x288 with 1 Axes>"
      ]
     },
     "metadata": {
      "needs_background": "light"
     },
     "output_type": "display_data"
    }
   ],
   "source": [
    "compare_st='FL'\n",
    "distmap_trim[distmap_trim['STATEFP10']==stfips_map[compare_st]].plot()\n",
    "distmap[distmap['STATEFP10']==stfips_map[compare_st]].plot()\n"
   ]
  },
  {
   "cell_type": "code",
   "execution_count": 11,
   "metadata": {},
   "outputs": [],
   "source": [
    "distmap_trim.crs=distmap.crs\n",
    "distmap_trim.to_file(data + 'test_shapes/test.shp', driver='ESRI Shapefile')"
   ]
  },
  {
   "cell_type": "markdown",
   "metadata": {},
   "source": [
    "### Go through each district map (cd105 through cd114) and trim. \n",
    "#### Save in trimmed_cd_shapefiles"
   ]
  },
  {
   "cell_type": "code",
   "execution_count": 12,
   "metadata": {},
   "outputs": [
    {
     "name": "stdout",
     "output_type": "stream",
     "text": [
      "(436, 16)\n",
      "(436, 18)\n"
     ]
    },
    {
     "ename": "TypeError",
     "evalue": "overlay only takes GeoDataFrames with (multi)polygon  geometries.",
     "output_type": "error",
     "traceback": [
      "\u001b[1;31m---------------------------------------------------------------------------\u001b[0m",
      "\u001b[1;31mTypeError\u001b[0m                                 Traceback (most recent call last)",
      "\u001b[1;32m<ipython-input-12-b9eaa44bdaa6>\u001b[0m in \u001b[0;36m<module>\u001b[1;34m\u001b[0m\n\u001b[0;32m     65\u001b[0m \u001b[1;33m\u001b[0m\u001b[0m\n\u001b[0;32m     66\u001b[0m \u001b[1;33m\u001b[0m\u001b[0m\n\u001b[1;32m---> 67\u001b[1;33m     \u001b[0mdistmap_trim\u001b[0m \u001b[1;33m=\u001b[0m \u001b[0mgpd\u001b[0m\u001b[1;33m.\u001b[0m\u001b[0moverlay\u001b[0m\u001b[1;33m(\u001b[0m\u001b[0mdissolved_gdf\u001b[0m\u001b[1;33m,\u001b[0m \u001b[0mdistmap\u001b[0m\u001b[1;33m,\u001b[0m \u001b[0mhow\u001b[0m\u001b[1;33m=\u001b[0m\u001b[1;34m'intersection'\u001b[0m\u001b[1;33m)\u001b[0m\u001b[1;33m\u001b[0m\u001b[1;33m\u001b[0m\u001b[0m\n\u001b[0m\u001b[0;32m     68\u001b[0m     \u001b[0mdistmap_trim\u001b[0m\u001b[1;33m.\u001b[0m\u001b[0mcrs\u001b[0m\u001b[1;33m=\u001b[0m\u001b[0mdistmap\u001b[0m\u001b[1;33m.\u001b[0m\u001b[0mcrs\u001b[0m\u001b[1;33m\u001b[0m\u001b[1;33m\u001b[0m\u001b[0m\n\u001b[0;32m     69\u001b[0m     \u001b[0mprint\u001b[0m\u001b[1;33m(\u001b[0m\u001b[0mdistmap_trim\u001b[0m\u001b[1;33m.\u001b[0m\u001b[0mcolumns\u001b[0m\u001b[1;33m.\u001b[0m\u001b[0mvalues\u001b[0m\u001b[1;33m)\u001b[0m\u001b[1;33m\u001b[0m\u001b[1;33m\u001b[0m\u001b[0m\n",
      "\u001b[1;32m~\\Anaconda3\\lib\\site-packages\\geopandas\\tools\\overlay.py\u001b[0m in \u001b[0;36moverlay\u001b[1;34m(df1, df2, how, make_valid, use_sindex)\u001b[0m\n\u001b[0;32m    377\u001b[0m     ):\n\u001b[0;32m    378\u001b[0m         raise TypeError(\n\u001b[1;32m--> 379\u001b[1;33m             \u001b[1;34m\"overlay only takes GeoDataFrames with (multi)polygon  geometries.\"\u001b[0m\u001b[1;33m\u001b[0m\u001b[1;33m\u001b[0m\u001b[0m\n\u001b[0m\u001b[0;32m    380\u001b[0m         )\n\u001b[0;32m    381\u001b[0m \u001b[1;33m\u001b[0m\u001b[0m\n",
      "\u001b[1;31mTypeError\u001b[0m: overlay only takes GeoDataFrames with (multi)polygon  geometries."
     ]
    }
   ],
   "source": [
    "stname_fips=pd.DataFrame(list(stnamefipsmap.items()), columns=['stname','STATEFP'])\n",
    "                              \n",
    "\n",
    "#for congress in ['cd105','cd106','cd107','cd108','cd109','cd110','cd111',\n",
    "#                 'cd112', 'cd113', 'cd114']:\n",
    "for congress in ['cd110']:\n",
    "    \n",
    "    if congress==\"cd105\":\n",
    "        distmap=gpd.read_file(data + \"/national congressial district shapefiles/districts105/districtShapes/districts105.shp\")\n",
    "        distmap=distmap.rename(columns={'DISTRICT':'dist'})\n",
    "        print(distmap.shape)\n",
    "        distmap=distmap.merge(stname_fips,left_on='STATENAME',right_on='stname', how='left')\n",
    "        print(distmap.shape)\n",
    "\n",
    "    elif congress==\"cd106\":\n",
    "        distmap=gpd.read_file(data + \"/national congressial district shapefiles/districts106/districtShapes/districts106.shp\")\n",
    "        distmap=distmap.rename(columns={'DISTRICT':'dist'})\n",
    "        print(distmap.shape)\n",
    "        distmap=distmap.merge(stname_fips,left_on='STATENAME',right_on='stname', how='left')\n",
    "        print(distmap.shape)\n",
    "        \n",
    "    elif congress==\"cd107\":\n",
    "        distmap=gpd.read_file(data + \"/national congressial district shapefiles/districts107/districtShapes/districts107.shp\")\n",
    "        distmap=distmap.rename(columns={'DISTRICT':'dist'})\n",
    "        print(distmap.shape)\n",
    "        distmap=distmap.merge(stname_fips,left_on='STATENAME',right_on='stname', how='left')\n",
    "        print(distmap.shape)\n",
    "        \n",
    "    elif congress==\"cd108\":\n",
    "        distmap=gpd.read_file(data + \"/national congressial district shapefiles/districts108/districtShapes/districts108.shp\")\n",
    "        distmap=distmap.rename(columns={'DISTRICT':'dist'})\n",
    "        print(distmap.shape)\n",
    "        distmap=distmap.merge(stname_fips,left_on='STATENAME',right_on='stname', how='left')\n",
    "        print(distmap.shape)\n",
    "        \n",
    "    elif congress==\"cd109\":\n",
    "        distmap=gpd.read_file(data + \"/national congressial district shapefiles/districts109/districtShapes/districts109.shp\")\n",
    "        distmap=distmap.rename(columns={'DISTRICT':'dist'})\n",
    "        print(distmap.shape)\n",
    "        distmap=distmap.merge(stname_fips,left_on='STATENAME',right_on='stname', how='left')\n",
    "        print(distmap.shape)\n",
    "        \n",
    "    elif congress==\"cd110\":\n",
    "        distmap=gpd.read_file(data + \"/national congressial district shapefiles/districts110/districtShapes/districts110.shp\")\n",
    "        distmap=distmap.rename(columns={'DISTRICT':'dist'})\n",
    "        print(distmap.shape)\n",
    "        distmap=distmap.merge(stname_fips,left_on='STATENAME',right_on='stname', how='left')\n",
    "        print(distmap.shape)\n",
    "        \n",
    "    elif congress==\"cd111\":\n",
    "        distmap=gpd.read_file(data + \"/national congressial district shapefiles/tl_2010_us_cd111/tl_2010_us_cd111.shp\")\n",
    "        distmap=distmap.rename(columns={'CD111FP':'dist', 'STATEFP10':'STATEFP'})\n",
    "        \n",
    "    elif congress==\"cd112\":\n",
    "        distmap=gpd.read_file(data + \"/national congressial district shapefiles/tl_2011_us_cd112/tl_2011_us_cd112.shp\")\n",
    "        distmap=distmap.rename(columns={'CD112FP':'dist'})\n",
    "    \n",
    "    elif congress==\"cd113\":\n",
    "        distmap=gpd.read_file(data + \"/national congressial district shapefiles/tl_2013_us_cd113/tl_2013_us_cd113.shp\")\n",
    "        distmap=distmap.rename(columns={'CD113FP':'dist'})\n",
    "    \n",
    "    elif congress==\"cd114\":\n",
    "        distmap=gpd.read_file(data + \"/national congressial district shapefiles/tl_2015_us_cd114/tl_2015_us_cd114.shp\")\n",
    "        distmap=distmap.rename(columns={'CD114FP':'dist'})\n",
    "        \n",
    "    \n",
    "    distmap_trim = gpd.overlay(dissolved_gdf, distmap, how='intersection')\n",
    "    distmap_trim.crs=distmap.crs\n",
    "    print(distmap_trim.columns.values)\n",
    "    distmap_trim=distmap_trim[distmap_trim['STATEFP_1']==distmap_trim['STATEFP_2']] # Get rid of extra records for borders which share states. Borders will still exist.\n",
    "    distmap_trim.to_file(data + 'trimmed_cd_shapefiles/'+ congress +'.shp', driver='ESRI Shapefile')"
   ]
  },
  {
   "cell_type": "code",
   "execution_count": null,
   "metadata": {},
   "outputs": [],
   "source": []
  }
 ],
 "metadata": {
  "kernelspec": {
   "display_name": "Python 3",
   "language": "python",
   "name": "python3"
  },
  "language_info": {
   "codemirror_mode": {
    "name": "ipython",
    "version": 3
   },
   "file_extension": ".py",
   "mimetype": "text/x-python",
   "name": "python",
   "nbconvert_exporter": "python",
   "pygments_lexer": "ipython3",
   "version": "3.7.3"
  }
 },
 "nbformat": 4,
 "nbformat_minor": 2
}
