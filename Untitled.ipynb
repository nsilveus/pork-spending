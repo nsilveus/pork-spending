{
 "cells": [
  {
   "cell_type": "code",
   "execution_count": 7,
   "metadata": {},
   "outputs": [],
   "source": [
    "from shapely.geometry import Polygon, Point, LinearRing\n",
    "\n",
    "poly = Polygon([(0, 0), (2,8), (14, 10), (6, 1)])\n",
    "point = Point(12, 4)\n",
    "\n",
    "pol_ext = LinearRing(poly.exterior.coords)\n",
    "d = pol_ext.project(point)\n",
    "p = pol_ext.interpolate(d)\n",
    "closest_point_coords = list(p.coords)[0]"
   ]
  },
  {
   "cell_type": "code",
   "execution_count": 15,
   "metadata": {},
   "outputs": [
    {
     "name": "stdout",
     "output_type": "stream",
     "text": [
      "POINT (10.13793103448276 5.655172413793103)\n"
     ]
    }
   ],
   "source": [
    "print(p)"
   ]
  }
 ],
 "metadata": {
  "kernelspec": {
   "display_name": "Python 3",
   "language": "python",
   "name": "python3"
  },
  "language_info": {
   "codemirror_mode": {
    "name": "ipython",
    "version": 3
   },
   "file_extension": ".py",
   "mimetype": "text/x-python",
   "name": "python",
   "nbconvert_exporter": "python",
   "pygments_lexer": "ipython3",
   "version": "3.7.3"
  }
 },
 "nbformat": 4,
 "nbformat_minor": 2
}
