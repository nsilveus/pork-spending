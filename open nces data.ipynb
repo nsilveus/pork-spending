{
 "cells": [
  {
   "cell_type": "code",
   "execution_count": 1,
   "metadata": {},
   "outputs": [],
   "source": [
    "import pandas as pd"
   ]
  },
  {
   "cell_type": "code",
   "execution_count": 5,
   "metadata": {},
   "outputs": [],
   "source": [
    "data = \"C:/Users/Neil/Dropbox/private school data/\""
   ]
  },
  {
   "cell_type": "code",
   "execution_count": 44,
   "metadata": {},
   "outputs": [
    {
     "name": "stderr",
     "output_type": "stream",
     "text": [
      "C:\\Users\\Neil\\Anaconda3\\lib\\site-packages\\IPython\\core\\interactiveshell.py:3049: DtypeWarning: Columns (0,5,7) have mixed types. Specify dtype option on import or set low_memory=False.\n",
      "  interactivity=interactivity, compiler=compiler, result=result)\n",
      "C:\\Users\\Neil\\Anaconda3\\lib\\site-packages\\IPython\\core\\interactiveshell.py:3049: DtypeWarning: Columns (0) have mixed types. Specify dtype option on import or set low_memory=False.\n",
      "  interactivity=interactivity, compiler=compiler, result=result)\n",
      "C:\\Users\\Neil\\Anaconda3\\lib\\site-packages\\IPython\\core\\interactiveshell.py:3049: DtypeWarning: Columns (134,135,200) have mixed types. Specify dtype option on import or set low_memory=False.\n",
      "  interactivity=interactivity, compiler=compiler, result=result)\n",
      "C:\\Users\\Neil\\Anaconda3\\lib\\site-packages\\IPython\\core\\interactiveshell.py:3049: DtypeWarning: Columns (197) have mixed types. Specify dtype option on import or set low_memory=False.\n",
      "  interactivity=interactivity, compiler=compiler, result=result)\n",
      "C:\\Users\\Neil\\Anaconda3\\lib\\site-packages\\IPython\\core\\interactiveshell.py:3049: DtypeWarning: Columns (219,220) have mixed types. Specify dtype option on import or set low_memory=False.\n",
      "  interactivity=interactivity, compiler=compiler, result=result)\n",
      "C:\\Users\\Neil\\Anaconda3\\lib\\site-packages\\IPython\\core\\interactiveshell.py:3049: DtypeWarning: Columns (216,217,218) have mixed types. Specify dtype option on import or set low_memory=False.\n",
      "  interactivity=interactivity, compiler=compiler, result=result)\n"
     ]
    }
   ],
   "source": [
    "ay1989_1990=pd.read_csv(data + \"pss8990_pu.txt\", encoding='cp1252')\n",
    "ay1989_1990['ay']=1989\n",
    "ay1991_1992=pd.read_csv(data + \"pss9192_pu.txt\", encoding='cp1252')\n",
    "ay1991_1992['ay']=1991\n",
    "ay1993_1994=pd.read_csv(data + \"pss9394_pu.txt\",sep='\\t', encoding='cp1252')\n",
    "ay1993_1994['ay']=1993\n",
    "ay1995_1996=pd.read_csv(data + \"pss9596_pu.txt\",sep='\\t', encoding='cp1252')\n",
    "ay1995_1996['ay']=1995\n",
    "ay1997_1998=pd.read_csv(data + \"pss9798_pu.txt\", encoding='cp1252')\n",
    "ay1997_1998['ay']=1997\n",
    "ay1999_2000=pd.read_csv(data + \"pss9900_pu.txt\",sep='\\t', encoding='cp1252')\n",
    "ay1999_2000['ay']=1999\n",
    "ay2001_2002=pd.read_csv(data + \"pss0102_pu.txt\",sep='\\t', encoding='cp1252')\n",
    "ay2001_2002['ay']=2001\n",
    "ay2003_2004=pd.read_csv(data + \"pss0304_pu.txt\", encoding='cp1252')\n",
    "ay2003_2004['ay']=2003\n",
    "ay2005_2006=pd.read_csv(data + \"pss0506_pu.txt\",sep='\\t', encoding='cp1252')\n",
    "ay2005_2006['ay']=2005\n",
    "ay2007_2008=pd.read_csv(data + \"pss0708_pu.txt\",sep='\\t', encoding='cp1252')\n",
    "ay2007_2008['ay']=2007\n",
    "ay2009_2010=pd.read_csv(data + \"pss0910_pu.txt\",sep='\\t', encoding='cp1252')\n",
    "ay2009_2010['ay']=2009\n",
    "ay2011_2012=pd.read_csv(data + \"pss1112_pu.txt\",sep='\\t', encoding='cp1252')\n",
    "ay2011_2012['ay']=2011\n",
    "ay2013_2014=pd.read_csv(data + \"pss1314_pu.csv\", encoding='cp1252')\n",
    "ay2013_2014['ay']=2013\n",
    "ay2015_2016=pd.read_csv(data + \"pss1516_pu.csv\", encoding='cp1252')\n",
    "ay2015_2016['ay']=2015\n",
    "ay2017_2018=pd.read_csv(data + \"pss1718_pu.csv\", encoding='cp1252')\n",
    "ay2017_2018['ay']=2017"
   ]
  },
  {
   "cell_type": "code",
   "execution_count": null,
   "metadata": {},
   "outputs": [],
   "source": []
  },
  {
   "cell_type": "code",
   "execution_count": null,
   "metadata": {},
   "outputs": [],
   "source": []
  }
 ],
 "metadata": {
  "kernelspec": {
   "display_name": "Python 3",
   "language": "python",
   "name": "python3"
  },
  "language_info": {
   "codemirror_mode": {
    "name": "ipython",
    "version": 3
   },
   "file_extension": ".py",
   "mimetype": "text/x-python",
   "name": "python",
   "nbconvert_exporter": "python",
   "pygments_lexer": "ipython3",
   "version": "3.7.3"
  }
 },
 "nbformat": 4,
 "nbformat_minor": 2
}
