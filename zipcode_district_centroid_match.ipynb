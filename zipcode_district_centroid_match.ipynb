{
 "cells": [
  {
   "cell_type": "markdown",
   "metadata": {},
   "source": [
    "### Create File with that matches zcta codes to their pre and post redistricting districts. \n",
    "#### This has been done in the calc block dists all us.ipyr, but I'm doing it again here for clarity and to keep track of the file."
   ]
  },
  {
   "cell_type": "code",
   "execution_count": 1,
   "metadata": {},
   "outputs": [],
   "source": [
    "import geopandas as gpd\n",
    "import pandas as pd\n",
    "import numpy as np\n",
    "import geoplot\n",
    "import math\n",
    "import os\n",
    "from geopandas.tools import geocode\n",
    "from geopandas.tools import sjoin\n",
    "from shapely.geometry import LinearRing\n",
    "from shapely.geometry import Point\n",
    "from shapely.ops import nearest_points\n",
    "          "
   ]
  },
  {
   "cell_type": "code",
   "execution_count": 2,
   "metadata": {},
   "outputs": [],
   "source": [
    "#Change to data directory where district shapefiles and block shapefiles stored\n",
    "data=\"C:/Users/Neil/Dropbox/pork spending\"#cd1=cd114_paoh[(cd114_paoh['CD114FP']=='12')  & (cd114_paoh['STATEFP']=='42')].boundary.iloc[0]\n",
    "#closest_coords(polygon=cd1,point=PA_bgcentroids.iloc[0])\n",
    "#PA_bg['cp1_x']=\n",
    "#print(PA_bg.crs)\n",
    "#cols=['CD1','CD2','CD3','CD4','CD5','CD6','CD7','CD8','CD9','CD10','CD11','CD12','CD13','CD14','CD15','CD16','CD17','CD18']\n",
    "stfips_map={\n",
    "    'AL' : ['01','Alabama'],\n",
    "    'AK' : ['02','Alaska'],\n",
    "    'AZ' : ['04','Arizona'],\n",
    "    'AR' : ['05','Arkansas'],\n",
    "    'CA' : ['06','Calafornia'],\n",
    "    'CO' : ['08','Colorado'],\n",
    "    'CT' : ['09','Connecticut'],\n",
    "    'DE' : ['10','Delaware'],\n",
    "    'FL' : ['12','Florida'],\n",
    "    'GA' : ['13','Georgia'],\n",
    "    'HI' : ['15','Hawaii'],\n",
    "    'ID' : ['16','Idaho'],\n",
    "    'IL' : ['17','Illinois'],\n",
    "    'IN' : ['18','Indiana'],\n",
    "    'IA' : ['19','Iowa'],\n",
    "    'KS' : ['20','Kansas'],\n",
    "    'KY' : ['21','Kentucky'],\n",
    "    'LA' : ['22','Louisiana'],\n",
    "    'ME' : ['23','Maine'],\n",
    "    'MD' : ['24','Maryland'],\n",
    "    'MA' : ['25','Massachusetts'],\n",
    "    'MI' : ['26','Michigan'],\n",
    "    'MN' : ['27','Minnesota'],\n",
    "    'MS' : ['28','Mississippi'],\n",
    "    'MO' : ['29','Montana'],\n",
    "    'MT' : ['30','Montana'],\n",
    "    'NE' : ['31','Nebraska'],\n",
    "    'NV' : ['32','Nevada'],\n",
    "    'NH' : ['33','New Hampshire'],\n",
    "    'NJ' : ['34','New Jersey'],\n",
    "    'NM' : ['35','New Mexico'],\n",
    "    'NY' : ['36','New York'],\n",
    "    'NC' : ['37','North Carolina'],\n",
    "    'ND' : ['38','North Dakota'],\n",
    "    'OH' : ['39','Ohio'],\n",
    "    'OK' : ['40','Oklahoma'],\n",
    "    'OR' : ['41','Oregon'],\n",
    "    'PA' : ['42','Pennsylvania'],\n",
    "    'RI' : ['44','Rhode Island'],\n",
    "    'SC' : ['45','South Carolina'],\n",
    "    'SD' : ['46','South Dakota'],\n",
    "    'TN' : ['47','Tennessee'],\n",
    "    'TX' : ['48','Texas'],\n",
    "    'UT' : ['49','Utah'],\n",
    "    'VT' : ['50','Vermont'],\n",
    "    'VA' : ['51','Virginia'],\n",
    "    'WA' : ['53','Washington'],\n",
    "    'WV' : ['54','West Virginia'],\n",
    "    'WI' : ['55','Wisconsin'],\n",
    "    'WY' : ['56','Wyoming'],\n",
    "    'AS' : ['60','American Samoa'],\n",
    "    'GU' : ['66','Guam'],\n",
    "    'MP' : ['69','Northern Mariana Islands'],\n",
    "    'PR' : ['72','Puerto Rico'],\n",
    "    'VI' : ['78','Virgin Islands'],\n",
    "    'ALL':['','']\n",
    "}\n",
    "\n",
    "nonstates = ['AS','GU' ,'MP' ,'PR' ,'VI','ALL' ]\n"
   ]
  },
  {
   "cell_type": "markdown",
   "metadata": {},
   "source": [
    "#### Import district maps"
   ]
  },
  {
   "cell_type": "code",
   "execution_count": 3,
   "metadata": {},
   "outputs": [],
   "source": [
    "#Import district MAPS\n",
    "distmapcd111=gpd.read_file(data + \"/national congressial district shapefiles/tl_2010_us_cd111/tl_2010_us_cd111.shp\")\n",
    "distmapcd111=distmapcd111.rename(columns={'CD111FP':'cd111','STATEFP10':'STATEFP_111'})\n",
    "distmapcd112=gpd.read_file(data + \"/national congressial district shapefiles/tl_2011_us_cd112/tl_2011_us_cd112.shp\")\n",
    "distmapcd112=distmapcd112.rename(columns={'CD112FP':'cd112','STATEFP':'STATEFP_112'})    \n",
    "distmapcd113=gpd.read_file(data + \"/national congressial district shapefiles/tl_2013_us_cd113/tl_2013_us_cd113.shp\")\n",
    "distmapcd113=distmapcd113.rename(columns={'CD113FP':'cd113','STATEFP':'STATEFP_113'})   \n",
    "distmapcd114=gpd.read_file(data + \"/national congressial district shapefiles/tl_2015_us_cd114/tl_2015_us_cd114.shp\")\n",
    "distmapcd114=distmapcd114.rename(columns={'CD114FP':'cd114','STATEFP':'STATEFP_114'})\n",
    "\n",
    "districtmap_dict={'cd111':distmapcd111,\n",
    "                  'cd112':distmapcd112,\n",
    "                  'cd113':distmapcd113,\n",
    "                  'cd114':distmapcd114}"
   ]
  },
  {
   "cell_type": "markdown",
   "metadata": {},
   "source": [
    "#### Import Zip code (zcta) map"
   ]
  },
  {
   "cell_type": "code",
   "execution_count": 4,
   "metadata": {},
   "outputs": [],
   "source": [
    "#Import zip map\n",
    "zcta=gpd.read_file(data + \"/tl_2019_us_zcta510/tl_2019_us_zcta510.shp\")\n",
    "zcta.loc[:,'centroid']=zcta.geometry.centroid\n",
    "zcta = zcta.set_geometry('centroid')\n",
    "zcta = zcta[['ZCTA5CE10','geometry','centroid']]"
   ]
  },
  {
   "cell_type": "markdown",
   "metadata": {},
   "source": [
    "#### Assign zcta to district based on centroid"
   ]
  },
  {
   "cell_type": "code",
   "execution_count": 9,
   "metadata": {},
   "outputs": [],
   "source": [
    "# Make sure they're using the same projection reference\n",
    "districtmap_dict['cd111'].crs = zcta.crs\n",
    "#sjoin\n",
    "zips_with_districts_centroids=sjoin(zcta,districtmap_dict['cd111'][['geometry','STATEFP_111','cd111']],how=\"left\")\n",
    "zips_with_districts_centroids=zips_with_districts_centroids.drop(columns=['index_right'])\n",
    "zips_with_districts_centroids=sjoin(zips_with_districts_centroids,districtmap_dict['cd112'][['geometry','STATEFP_112','cd112']],how=\"left\")\n",
    "zips_with_districts_centroids=zips_with_districts_centroids.drop(columns=['index_right'])\n",
    "zips_with_districts_centroids=sjoin(zips_with_districts_centroids,districtmap_dict['cd113'][['geometry','STATEFP_113','cd113']],how=\"left\")\n",
    "zips_with_districts_centroids=zips_with_districts_centroids.drop(columns=['index_right'])\n",
    "zips_with_districts_centroids=sjoin(zips_with_districts_centroids,districtmap_dict['cd114'][['geometry','STATEFP_114','cd114']],how=\"left\")\n",
    "zips_with_districts_centroids=zips_with_districts_centroids.drop(columns=['index_right'])\n",
    "\n",
    "outfile=pd.DataFrame(zips_with_districts_centroids.drop(columns=['geometry','centroid']))\n",
    "outfile=outfile.rename(columns={'ZCTA5CE10':'zip_code'})\n",
    "\n",
    "outfile.to_stata(data + \"/zips_with_districts_centroids.dta\")"
   ]
  },
  {
   "cell_type": "markdown",
   "metadata": {},
   "source": [
    "#### Assign zcta to district based on intersection"
   ]
  },
  {
   "cell_type": "code",
   "execution_count": null,
   "metadata": {},
   "outputs": [],
   "source": [
    "# Make sure they're using the same projection reference\n",
    "districtmap_dict['cd111'].crs = zcta.crs\n",
    "# Change zip geometry to polygon\n",
    "zcta = zcta.set_geometry('geometry')\n",
    "#sjoin\n",
    "zips_with_districts_intersect=sjoin(zcta,districtmap_dict['cd111'][['geometry','STATEFP_111','cd111']],how=\"left\")\n",
    "zips_with_districts_intersect=zips_with_districts_intersect.drop(columns=['index_right'])\n",
    "zips_with_districts_intersect=sjoin(zips_with_districts_intersect,districtmap_dict['cd112'][['geometry','STATEFP_112','cd112']],how=\"left\")\n",
    "zips_with_districts_intersect=zips_with_districts_intersect.drop(columns=['index_right'])\n",
    "zips_with_districts_intersect=sjoin(zips_with_districts_intersect,districtmap_dict['cd113'][['geometry','STATEFP_113','cd113']],how=\"left\")\n",
    "zips_with_districts_intersect=zips_with_districts_intersect.drop(columns=['index_right'])\n",
    "zips_with_districts_intersect=sjoin(zips_with_districts_intersect,districtmap_dict['cd114'][['geometry','STATEFP_114','cd114']],how=\"left\")\n",
    "zips_with_districts_intersect=zips_with_districts_intersect.drop(columns=['index_right'])"
   ]
  },
  {
   "cell_type": "code",
   "execution_count": null,
   "metadata": {},
   "outputs": [],
   "source": []
  }
 ],
 "metadata": {
  "kernelspec": {
   "display_name": "Python 3",
   "language": "python",
   "name": "python3"
  },
  "language_info": {
   "codemirror_mode": {
    "name": "ipython",
    "version": 3
   },
   "file_extension": ".py",
   "mimetype": "text/x-python",
   "name": "python",
   "nbconvert_exporter": "python",
   "pygments_lexer": "ipython3",
   "version": "3.7.3"
  }
 },
 "nbformat": 4,
 "nbformat_minor": 2
}
